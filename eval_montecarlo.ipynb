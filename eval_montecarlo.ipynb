{
 "cells": [
  {
   "cell_type": "code",
   "execution_count": 1,
   "id": "487a1c64-6f6d-47ce-930f-6420d91b49fb",
   "metadata": {},
   "outputs": [],
   "source": [
    "# Python imports\n",
    "# Library imports\n",
    "import numpy as np\n",
    "import matplotlib as mpl\n",
    "import matplotlib.pyplot as plt\n",
    "from IPython.core import debugger\n",
    "from joblib import Parallel, delayed\n",
    "breakpoint = debugger.set_trace\n",
    "from felipe_utils.felipe_impulse_utils import tof_utils_felipe\n",
    "from utils.coding_schemes_utils import init_coding_list\n",
    "from spad_toflib import spad_tof_utils\n",
    "from utils.coding_schemes_utils import ImagingSystemParams, get_levels_list_montecarlo\n",
    "from felipe_utils.research_utils.np_utils import calc_error_metrics, print_error_metrics\n",
    "from utils.file_utils import write_errors_to_file\n",
    "\n",
    "\n",
    "\n"
   ]
  },
  {
   "cell_type": "code",
   "execution_count": 8,
   "id": "1b4e76c5-93a8-426c-b8d1-aa66d095b490",
   "metadata": {},
   "outputs": [],
   "source": [
    "params = {}\n",
    "params['n_tbins'] = 1024\n",
    "# params['dMax'] = 5\n",
    "# params['rep_freq'] = direct_tof_utils.depth2freq(params['dMax'])\n",
    "params['rep_freq'] = 5 * 1e6\n",
    "params['dMax'] = tof_utils_felipe.freq2depth(params['rep_freq'])\n",
    "params['gate_size'] = 1 * ((1. / params['rep_freq']) / params['n_tbins'])\n",
    "params['T'] = 0.1  # Integration time. Exposure time in seconds\n",
    "params['rep_tau'] = 1. / params['rep_freq']\n",
    "params['depth_res'] = 1000  ##Conver to MM\n",
    "\n",
    "pulse_width = .8e-8\n",
    "tbin_res = params['rep_tau'] / params['n_tbins']\n",
    "sigma = int(pulse_width / tbin_res)\n",
    "\n",
    "params['imaging_schemes'] = [\n",
    "    ImagingSystemParams('TruncatedFourier', 'Gaussian', 'ifft', n_freqs=2, pulse_width=sigma),\n",
    "    ImagingSystemParams('Greys', 'Gaussian', 'zncc', n_bits=4, pulse_width=sigma),\n",
    "    ImagingSystemParams('HamiltonianK3', 'HamiltonianK3', 'zncc',\n",
    "                        duty=1. / 6., freq_window=0.10),\n",
    "    ImagingSystemParams('HamiltonianK4', 'HamiltonianK4', 'zncc',\n",
    "                        duty=1. / 6., freq_window=0.10),\n",
    "    ImagingSystemParams('HamiltonianK5', 'HamiltonianK5', 'zncc',\n",
    "                        duty=1. / 6., freq_window=0.10),\n",
    "    ImagingSystemParams('Identity', 'Gaussian', 'matchfilt', pulse_width=1),\n",
    "    ImagingSystemParams('Identity', 'Gaussian', 'matchfilt', pulse_width=sigma),\n",
    "    ImagingSystemParams('Gated', 'Gaussian', 'linear', n_gates=64, pulse_width=sigma)\n",
    "]\n",
    "\n",
    "# params['imaging_schemes'] = [\n",
    "#     ImagingSystemParams('KTapSinusoid', 'KTapSinusoid', 'zncc', ktaps=3, cw_tof=True),\n",
    "#     ImagingSystemParams('KTapSinusoid', 'KTapSinusoid', 'zncc', ktaps=3),\n",
    "\n",
    "# ]\n",
    "\n",
    "params['meanBeta'] = 1e-4\n",
    "params['trials'] = 1000\n",
    "params['freq_idx'] = [1]\n",
    "\n",
    "params['levels_one'] = 'laser cycles'\n",
    "params['levels_one_exp'] = (4, 20)\n",
    "params['num_levels_one'] = 30\n",
    "params['levels_two'] = 'peak power'\n",
    "params['levels_two_exp'] = (5, 200)\n",
    "params['num_levels_two'] = 30\n",
    "\n",
    "n_level_one = params['num_levels_one']\n",
    "n_level_two = params['num_levels_two']\n",
    "\n",
    "\n",
    "dSample = 1.0\n",
    "depths = np.arange(dSample, params['dMax']-dSample, dSample)\n"
   ]
  },
  {
   "cell_type": "code",
   "execution_count": 9,
   "id": "ea6f3986-b283-4471-bc9e-8c0fe1f7a575",
   "metadata": {},
   "outputs": [
    {
     "name": "stdout",
     "output_type": "stream",
     "text": [
      "hirf is NONE\n",
      "hirf is NONE\n",
      "hirf is NONE\n",
      "hirf is NONE\n",
      "hirf is NONE\n",
      "hirf is NONE\n",
      "hirf is NONE\n",
      "hirf is NONE\n"
     ]
    }
   ],
   "source": [
    "(levels_one, levels_two) = get_levels_list_montecarlo(params)\n",
    "\n",
    "(rep_tau, rep_freq, tbin_res, t_domain, dMax, tbin_depth_res) = \\\n",
    "    (tof_utils_felipe.calc_tof_domain_params(params['n_tbins'], rep_tau=params['rep_tau']))\n",
    "gt_tshifts = tof_utils_felipe.depth2time(depths)\n",
    "\n",
    "init_coding_list(params['n_tbins'], depths, params, t_domain=t_domain)\n",
    "\n",
    "imaging_schemes = params['imaging_schemes']\n",
    "trials = params['trials']\n",
    "t = params['T']\n",
    "mean_beta = params['meanBeta']\n",
    "depth_res = params['depth_res']\n",
    "\n",
    "updated_params = {'laser cycles': None,\n",
    "                  'integration time': t,\n",
    "                  'ave power': None,\n",
    "                  'sbr': None,\n",
    "                  'peak power': 20,\n",
    "                  'amb photons': 10}\n"
   ]
  },
  {
   "cell_type": "code",
   "execution_count": 10,
   "id": "8e0f23e7-4c01-4277-8cff-5ab09775269b",
   "metadata": {},
   "outputs": [],
   "source": [
    "def getHog(imaging_scheme):\n",
    "    results = np.zeros((n_level_one, n_level_two))\n",
    "    coding_obj = imaging_scheme.coding_obj\n",
    "    coding_scheme = imaging_scheme.coding_id\n",
    "    light_obj = imaging_scheme.light_obj\n",
    "    light_source = imaging_scheme.light_id\n",
    "    rec_algo = imaging_scheme.rec_algo\n",
    "    print(f'running scheme {coding_scheme}')\n",
    "    for x in range(0, n_level_one):\n",
    "        for y in range(0, n_level_two):\n",
    "            updated_params[params['levels_one']] = levels_one[y, x]\n",
    "            updated_params[params['levels_two']] = levels_two[y, x]\n",
    "\n",
    "            if updated_params['peak power'] is not None:\n",
    "                incident = light_obj.simulate_peak_photons(updated_params['peak power'], updated_params['amb photons'])\n",
    "            else:\n",
    "                incident = light_obj.simulate_average_photons(updated_params['ave power'], updated_params['sbr'])\n",
    "\n",
    "            coded_vals = coding_obj.encode(incident, trials).squeeze()\n",
    "\n",
    "            if coding_scheme in ['Identity']:\n",
    "                assert light_source in ['Gaussian'], 'Identity coding only available for IRF'\n",
    "                decoded_depths = coding_obj.maxgauss_peak_decoding(coded_vals, light_obj.sigma,\n",
    "                                                                   rec_algo_id=rec_algo) * tbin_depth_res\n",
    "            else:\n",
    "                decoded_depths = coding_obj.max_peak_decoding(coded_vals, rec_algo_id=rec_algo) * tbin_depth_res\n",
    "\n",
    "            errors = np.abs(decoded_depths - depths[np.newaxis, :]) * depth_res\n",
    "            error_metrix = calc_error_metrics(errors)\n",
    "            results[y, x] = error_metrix['mae']\n",
    "    return results"
   ]
  },
  {
   "cell_type": "code",
   "execution_count": 11,
   "id": "4ed465ef-c3eb-48a8-9d35-3e004ed2cb3e",
   "metadata": {},
   "outputs": [
    {
     "name": "stdout",
     "output_type": "stream",
     "text": [
      "running scheme HamiltonianK5\n",
      "running scheme Greys\n",
      "running scheme TruncatedFourier\n",
      "running scheme HamiltonianK3\n",
      "running scheme Identity\n",
      "running scheme Identity\n",
      "running scheme HamiltonianK4\n",
      "running scheme Gated\n"
     ]
    }
   ],
   "source": [
    "output_generator = Parallel(n_jobs=10)(delayed(getHog)(i) for i in imaging_schemes)"
   ]
  },
  {
   "cell_type": "code",
   "execution_count": 12,
   "id": "a2139821-0411-4699-9470-94d63905375d",
   "metadata": {},
   "outputs": [
    {
     "data": {
      "text/plain": [
       "(8, 30, 30)"
      ]
     },
     "execution_count": 12,
     "metadata": {},
     "output_type": "execute_result"
    }
   ],
   "source": [
    "results = np.zeros((len(imaging_schemes), n_level_one, n_level_two))\n",
    "for i, mae in enumerate(output_generator):\n",
    "    results[i,:, :]=mae\n",
    "results.shape"
   ]
  },
  {
   "cell_type": "code",
   "execution_count": 13,
   "id": "fd8e1b8d-eec9-476c-9c93-e9acabff7b49",
   "metadata": {},
   "outputs": [
    {
     "name": "stdout",
     "output_type": "stream",
     "text": [
      "Filename ntbins_1024_monte_1000_exp_CoWSiP002.npz overwritten\n",
      "complete\n"
     ]
    }
   ],
   "source": [
    "exp_num = 'CoWSiP002'\n",
    "write_errors_to_file(params, results, depths, levels_one=levels_one, levels_two=levels_two, exp=exp_num)\n",
    "print('complete')"
   ]
  },
  {
   "cell_type": "code",
   "execution_count": null,
   "id": "28c67bf1-ef8d-4e7b-92ea-1551045c352e",
   "metadata": {},
   "outputs": [],
   "source": []
  }
 ],
 "metadata": {
  "kernelspec": {
   "display_name": "Python 3 (ipykernel)",
   "language": "python",
   "name": "python3"
  },
  "language_info": {
   "codemirror_mode": {
    "name": "ipython",
    "version": 3
   },
   "file_extension": ".py",
   "mimetype": "text/x-python",
   "name": "python",
   "nbconvert_exporter": "python",
   "pygments_lexer": "ipython3",
   "version": "3.12.2"
  }
 },
 "nbformat": 4,
 "nbformat_minor": 5
}
